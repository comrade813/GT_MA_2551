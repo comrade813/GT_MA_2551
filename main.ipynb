{
 "cells": [
  {
   "cell_type": "code",
   "execution_count": 2,
   "id": "maritime-declaration",
   "metadata": {},
   "outputs": [
    {
     "name": "stdout",
     "output_type": "stream",
     "text": [
      "parametric r(t)\n",
      "\tr(t) =\n",
      "\t\ti = t^5/5\n",
      "\t\tj = t^4/4\n",
      "\t\tk = 0\n",
      "\tsymbol: t\n"
     ]
    },
    {
     "data": {
      "image/png": "[encoded data removed]",
      "text/latex": [
       "$\\displaystyle \\left( (\\frac{t^{5}}{5})\\mathbf{\\hat{i}_{C}} + (\\frac{t^{4}}{4})\\mathbf{\\hat{j}_{C}}, \\  t\\right)$"
      ],
      "text/plain": [
       "⎛⎛ 5⎞       ⎛ 4⎞    , t⎞\n",
       "⎜⎜t ⎟ i_C + ⎜t ⎟ j_C   ⎟\n",
       "⎜⎜──⎟       ⎜──⎟       ⎟\n",
       "⎝⎝5 ⎠       ⎝4 ⎠       ⎠"
      ]
     },
     "metadata": {},
     "output_type": "display_data"
    },
    {
     "name": "stdout",
     "output_type": "stream",
     "text": [
      "binormal r(t)\n"
     ]
    },
    {
     "data": {
      "image/png": "[encoded data removed]",
      "text/latex": [
       "$\\displaystyle (\\frac{t^{4} \\left(\\frac{t^{3} \\left(- 4 t^{7} - 3 t^{5}\\right)}{\\left(t^{8} + t^{6}\\right)^{\\frac{3}{2}}} + \\frac{3 t^{2}}{\\sqrt{t^{8} + t^{6}}}\\right)}{\\sqrt{t^{8} + t^{6}} \\sqrt{\\left(\\frac{t^{3} \\left(- 4 t^{7} - 3 t^{5}\\right)}{\\left(t^{8} + t^{6}\\right)^{\\frac{3}{2}}} + \\frac{3 t^{2}}{\\sqrt{t^{8} + t^{6}}}\\right)^{2} + \\left(\\frac{t^{4} \\left(- 4 t^{7} - 3 t^{5}\\right)}{\\left(t^{8} + t^{6}\\right)^{\\frac{3}{2}}} + \\frac{4 t^{3}}{\\sqrt{t^{8} + t^{6}}}\\right)^{2}}} - \\frac{t^{3} \\left(\\frac{t^{4} \\left(- 4 t^{7} - 3 t^{5}\\right)}{\\left(t^{8} + t^{6}\\right)^{\\frac{3}{2}}} + \\frac{4 t^{3}}{\\sqrt{t^{8} + t^{6}}}\\right)}{\\sqrt{t^{8} + t^{6}} \\sqrt{\\left(\\frac{t^{3} \\left(- 4 t^{7} - 3 t^{5}\\right)}{\\left(t^{8} + t^{6}\\right)^{\\frac{3}{2}}} + \\frac{3 t^{2}}{\\sqrt{t^{8} + t^{6}}}\\right)^{2} + \\left(\\frac{t^{4} \\left(- 4 t^{7} - 3 t^{5}\\right)}{\\left(t^{8} + t^{6}\\right)^{\\frac{3}{2}}} + \\frac{4 t^{3}}{\\sqrt{t^{8} + t^{6}}}\\right)^{2}}})\\mathbf{\\hat{k}_{C}}$"
      ],
      "text/plain": [
       "(t**4*(t**3*(-4*t**7 - 3*t**5)/(t**8 + t**6)**(3/2) + 3*t**2/sqrt(t**8 + t**6))/(sqrt(t**8 + t**6)*sqrt((t**3*(-4*t**7 - 3*t**5)/(t**8 + t**6)**(3/2) + 3*t**2/sqrt(t**8 + t**6))**2 + (t**4*(-4*t**7 - 3*t**5)/(t**8 + t**6)**(3/2) + 4*t**3/sqrt(t**8 + t**6))**2)) - t**3*(t**4*(-4*t**7 - 3*t**5)/(t**8 + t**6)**(3/2) + 4*t**3/sqrt(t**8 + t**6))/(sqrt(t**8 + t**6)*sqrt((t**3*(-4*t**7 - 3*t**5)/(t**8 + t**6)**(3/2) + 3*t**2/sqrt(t**8 + t**6))**2 + (t**4*(-4*t**7 - 3*t**5)/(t**8 + t**6)**(3/2) + 4*t**3/sqrt(t**8 + t**6))**2)))*C.k"
      ]
     },
     "metadata": {},
     "output_type": "display_data"
    },
    {
     "name": "stdout",
     "output_type": "stream",
     "text": [
      "Alternate (but equal) representation:\n"
     ]
    },
    {
     "data": {
      "image/png": "[encoded data removed]",
      "text/latex": [
       "$\\displaystyle (- \\frac{1}{\\sqrt{\\frac{t^{2} + 1}{t^{6} + 3 t^{4} + 3 t^{2} + 1}} \\left(t^{2} + 1\\right)})\\mathbf{\\hat{k}_{C}}$"
      ],
      "text/plain": [
       "(-1/(sqrt((t**2 + 1)/(t**6 + 3*t**4 + 3*t**2 + 1))*(t**2 + 1)))*C.k"
      ]
     },
     "metadata": {},
     "output_type": "display_data"
    },
    {
     "name": "stdout",
     "output_type": "stream",
     "text": [
      "torsion r(t)\n"
     ]
    },
    {
     "data": {
      "image/png": "[encoded data removed]",
      "text/latex": [
       "$\\displaystyle 0$"
      ],
      "text/plain": [
       "0"
      ]
     },
     "metadata": {},
     "output_type": "display_data"
    },
    {
     "name": "stdout",
     "output_type": "stream",
     "text": [
      "Alternate (but equal) representation:\n"
     ]
    },
    {
     "data": {
      "image/png": "[encoded data removed]",
      "text/latex": [
       "$\\displaystyle 0$"
      ],
      "text/plain": [
       "0"
      ]
     },
     "metadata": {},
     "output_type": "display_data"
    },
    {
     "name": "stdout",
     "output_type": "stream",
     "text": [
      "quit\n"
     ]
    }
   ],
   "source": [
    "from functions import *\n",
    "from PLP import *\n",
    "\n",
    "if __name__ == \"__main__\":\n",
    "    while(1):\n",
    "        query = input().split()\n",
    "        if query[0] == \"quit\":\n",
    "            break\n",
    "        if not handle_PLP(query) and \\\n",
    "           not handle_functions(query):\n",
    "           print(\"Query not recognized\")"
   ]
  },
  {
   "cell_type": "code",
   "execution_count": null,
   "id": "greatest-hungarian",
   "metadata": {},
   "outputs": [],
   "source": []
  }
 ],
 "metadata": {
  "kernelspec": {
   "display_name": "Python 3",
   "language": "python",
   "name": "python3"
  },
  "language_info": {
   "codemirror_mode": {
    "name": "ipython",
    "version": 3
   },
   "file_extension": ".py",
   "mimetype": "text/x-python",
   "name": "python",
   "nbconvert_exporter": "python",
   "pygments_lexer": "ipython3",
   "version": "3.8.3"
  }
 },
 "nbformat": 4,
 "nbformat_minor": 5
}

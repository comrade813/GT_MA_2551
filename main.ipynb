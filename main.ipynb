{
 "cells": [
  {
   "cell_type": "code",
   "execution_count": null,
   "id": "maritime-declaration",
   "metadata": {},
   "outputs": [],
   "source": [
    "from functions import *\n",
    "from PLP import *\n",
    "\n",
    "if __name__ == \"__main__\":\n",
    "    while(1):\n",
    "        query = input().split()\n",
    "        if query[0] == \"quit\":\n",
    "            break\n",
    "        if not handle_PLP(query) and \\\n",
    "           not handle_functions(query):\n",
    "           print(\"Query not recognized\")"
   ]
  }
 ],
 "metadata": {},
 "nbformat": 4,
 "nbformat_minor": 5
}
